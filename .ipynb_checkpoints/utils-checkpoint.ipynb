{
 "cells": [
  {
   "cell_type": "code",
   "execution_count": 1,
   "id": "suffering-filename",
   "metadata": {},
   "outputs": [],
   "source": [
    "import pandas as pd"
   ]
  },
  {
   "cell_type": "code",
   "execution_count": 2,
   "id": "normal-blair",
   "metadata": {},
   "outputs": [],
   "source": [
    "# 加载标签字典\n",
    "def load_tag_idx(filepath):\n",
    "    tag_dict = dict()\n",
    "    with open(filepath, \"r\") as fin:\n",
    "        for line in fin:\n",
    "            temp = line.strip().split(\",\")\n",
    "            tag_dict[temp[0]] = int(temp[1])\n",
    "\n",
    "    return tag_dict"
   ]
  },
  {
   "cell_type": "code",
   "execution_count": 3,
   "id": "excited-carter",
   "metadata": {},
   "outputs": [],
   "source": [
    "# 转化原始数据文件\n",
    "def convert_data(filepath, tag_dict, savepath):\n",
    "    rst_list = []\n",
    "    with open(filepath, \"r\") as fin:\n",
    "        for line in fin.readlines():\n",
    "            temp = line.strip()\n",
    "            sep_idx = temp.find(\":\")\n",
    "            tag = temp[:sep_idx]\n",
    "            ctx = temp[sep_idx + 1:].strip()\n",
    "            rst_list.append([tag_dict[tag], ctx])\n",
    "\n",
    "    rst = pd.DataFrame(rst_list, columns=[\"tag\", \"ctx\"])\n",
    "    rst.sort_values(by=\"tag\", inplace=True)\n",
    "    rst.to_csv(savepath, header=False, index=False, sep=\"\\t\")"
   ]
  },
  {
   "cell_type": "code",
   "execution_count": 4,
   "id": "entire-healthcare",
   "metadata": {},
   "outputs": [],
   "source": [
    "# 划分数据集\n",
    "def split_data(filepath, savedir):\n",
    "    org_data = pd.read_csv(filepath, header=None, sep=\"\\t\", names=[\"tags\", \"content\"])\n",
    "    train_data = pd.DataFrame(columns=[\"tag\", \"content\"])\n",
    "    valid_data = pd.DataFrame(columns=[\"tag\", \"content\"])\n",
    "    test_data = pd.DataFrame(columns=[\"tag\", \"content\"])\n",
    "    \n",
    "    for tag in org_data[\"tags\"].unique():\n",
    "        temp_df = org_data[org_data[\"tags\"] == tag]\n",
    "\n",
    "        temp_train = temp_df.sample(frac=0.6, replace=False)\n",
    "        train_data = train_data.append(temp_train)\n",
    "\n",
    "        temp_left = temp_df[~temp_df.index.isin(temp_train.index)]\n",
    "\n",
    "        temp_valid = temp_left.sample(frac=0.5, replace=False)\n",
    "        valid_data = valid_data.append(temp_valid)\n",
    "\n",
    "        test_data = test_data.append(temp_left[~temp_left.index.isin(temp_valid.index)])\n",
    "    \n",
    "    train_data = train_data.sample(frac=1)\n",
    "    valid_data = valid_data.sample(frac=1)\n",
    "    test_data = test_data.sample(frac=1)\n",
    "    \n",
    "    train_data.to_csv(savedir + \"train.csv\", header=False, index=False, sep=\"\\t\")\n",
    "    valid_data.to_csv(savedir + \"valid.csv\", header=False, index=False, sep=\"\\t\")\n",
    "    test_data.to_csv(savedir + \"test.csv\", header=False, index=False, sep=\"\\t\")"
   ]
  },
  {
   "cell_type": "code",
   "execution_count": 6,
   "id": "separated-socket",
   "metadata": {},
   "outputs": [],
   "source": [
    "# 加载标签序号\n",
    "tag_idx_file = \"static/data/tag-idx.csv\"\n",
    "tag_dict = load_tag_idx(tag_idx_file)"
   ]
  },
  {
   "cell_type": "code",
   "execution_count": 7,
   "id": "occasional-funds",
   "metadata": {},
   "outputs": [],
   "source": [
    "# 转换原始数据文件\n",
    "org_file = \"static/data/huati_filter_final_posts_no_sge.txt\"\n",
    "savepath = \"static/data/cvt_org_data.csv\"\n",
    "convert_data(org_file, tag_dict, savepath)"
   ]
  },
  {
   "cell_type": "code",
   "execution_count": 8,
   "id": "forward-assault",
   "metadata": {},
   "outputs": [],
   "source": [
    "# 划分数据集\n",
    "org_data_file = \"static/data/cvt_org_data.csv\"\n",
    "savedir = \"static/data/\"\n",
    "split_data(org_data_file, savedir)"
   ]
  }
 ],
 "metadata": {
  "kernelspec": {
   "display_name": "Python 3",
   "language": "python",
   "name": "python3"
  },
  "language_info": {
   "codemirror_mode": {
    "name": "ipython",
    "version": 3
   },
   "file_extension": ".py",
   "mimetype": "text/x-python",
   "name": "python",
   "nbconvert_exporter": "python",
   "pygments_lexer": "ipython3",
   "version": "3.7.3"
  }
 },
 "nbformat": 4,
 "nbformat_minor": 5
}
